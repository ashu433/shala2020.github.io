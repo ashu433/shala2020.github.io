{
  "nbformat": 4,
  "nbformat_minor": 0,
  "metadata": {
    "colab": {
      "provenance": [],
      "authorship_tag": "ABX9TyNk/pjPV3JE6BmnqGBk5x/I",
      "include_colab_link": true
    },
    "kernelspec": {
      "name": "python3",
      "display_name": "Python 3"
    },
    "language_info": {
      "name": "python"
    }
  },
  "cells": [
    {
      "cell_type": "markdown",
      "metadata": {
        "id": "view-in-github",
        "colab_type": "text"
      },
      "source": [
        "<a href=\"https://colab.research.google.com/github/ashu433/shala2020.github.io/blob/master/Data_Science_and_Algorithim_codes.ipynb\" target=\"_parent\"><img src=\"https://colab.research.google.com/assets/colab-badge.svg\" alt=\"Open In Colab\"/></a>"
      ]
    },
    {
      "cell_type": "code",
      "source": [
        "import random\n",
        "import math\n",
        "import numba\n",
        "import numpy as np\n",
        "import time\n",
        "\n",
        "################################ COMPUTATION OF THE FIBONACCHI NUMBER #############################################################\n",
        "\n",
        "@numba.jit(nopython=True)\n",
        "\n",
        "def fibonacchi_number(n):\n",
        "    if n==0 or n==1:\n",
        "        return n\n",
        "    elif n>0:\n",
        "        sum=0\n",
        "        array=[0,1]\n",
        "        for i in range(2,n+1):\n",
        "            fib_valu=array[i-1]+array[i-2]\n",
        "            array.append(fib_valu)\n",
        "        return array[-1]\n",
        "    else:\n",
        "        print(\"Please enter the n greater than Zero\")\n",
        "\n",
        "start=time.time()\n",
        "Fibonnachi_output=fibonacchi_number(100)\n",
        "print(Fibonnachi_output)\n",
        "end=time.time()\n",
        "\n",
        "print(f\"Time taken in total computation is {start-end}\")"
      ],
      "metadata": {
        "colab": {
          "base_uri": "https://localhost:8080/"
        },
        "id": "Pi0xT8YGG43f",
        "outputId": "30b91524-0367-4acc-a247-e2bea5a444f8"
      },
      "execution_count": 1,
      "outputs": [
        {
          "output_type": "stream",
          "name": "stdout",
          "text": [
            "3736710778780434371\n",
            "Time taken in total computation is -2.480020046234131\n"
          ]
        }
      ]
    },
    {
      "cell_type": "code",
      "source": [
        "################################### LEAST OPTIMIZED CODE FOR COMPUTATION OF THE FIBONACCHI NUMBER #########################################################################\n",
        "\n",
        "# def fibonacchi_number(n):\n",
        "#     if n<=1:\n",
        "#         return n\n",
        "#     else:\n",
        "#         return fibonacchi_number(n-1)+fibonacchi_number(n-2)\n",
        "\n",
        "# print(fibonacchi_number(100))"
      ],
      "metadata": {
        "id": "H7tkRJB2HG50"
      },
      "execution_count": null,
      "outputs": []
    }
  ]
}